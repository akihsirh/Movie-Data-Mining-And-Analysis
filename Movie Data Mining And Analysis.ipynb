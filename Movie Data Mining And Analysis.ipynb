{
 "cells": [
  {
   "cell_type": "markdown",
   "metadata": {},
   "source": [
    "## Movie Data Mining and Analysis"
   ]
  },
  {
   "cell_type": "code",
   "execution_count": 2,
   "metadata": {},
   "outputs": [],
   "source": [
    "# data analysis\n",
    "import pandas as pd\n",
    "import numpy as np\n",
    "# text processing\n",
    "import nltk\n",
    "# machine learning\n",
    "import sklearn\n",
    "# social network analysis\n",
    "import networkx as net\n",
    "# plotting\n",
    "import matplotlib.pyplot as plt\n",
    "%matplotlib inline\n",
    "\n",
    "# You can import other packages if necessary"
   ]
  },
  {
   "cell_type": "markdown",
   "metadata": {},
   "source": [
    "## Part 1 - Exploring Movie Data"
   ]
  },
  {
   "cell_type": "markdown",
   "metadata": {},
   "source": [
    "In this part, I will work with the following dataset:\n",
    "* movies.csv - This dataset contains a sample of movies including movie info, box office gross revenues, as well as audience and critic ratings. The dataset combines data from multiple sources: Rotten Tomatoes, The Numbers, and IMDB. The variable names started with 'rt' indicate the ones collected from the Rotten Tomatoes. For example, the variable 'rtAllCriticsRating' is average movies ratings from the Rotten Tomatoes critics.\n",
    "\n",
    "Here is an example movie page on the Rotten Tomatoes: https://www.rottentomatoes.com/m/the_theory_of_everything_2014"
   ]
  },
  {
   "cell_type": "code",
   "execution_count": 4,
   "metadata": {},
   "outputs": [],
   "source": [
    "# Load the data\n",
    "movies = pd.read_csv('movies.csv')"
   ]
  },
  {
   "cell_type": "code",
   "execution_count": 5,
   "metadata": {},
   "outputs": [
    {
     "data": {
      "text/html": [
       "<div>\n",
       "<style scoped>\n",
       "    .dataframe tbody tr th:only-of-type {\n",
       "        vertical-align: middle;\n",
       "    }\n",
       "\n",
       "    .dataframe tbody tr th {\n",
       "        vertical-align: top;\n",
       "    }\n",
       "\n",
       "    .dataframe thead th {\n",
       "        text-align: right;\n",
       "    }\n",
       "</style>\n",
       "<table border=\"1\" class=\"dataframe\">\n",
       "  <thead>\n",
       "    <tr style=\"text-align: right;\">\n",
       "      <th></th>\n",
       "      <th>id</th>\n",
       "      <th>title</th>\n",
       "      <th>imdbID</th>\n",
       "      <th>year</th>\n",
       "      <th>rtID</th>\n",
       "      <th>rtAllCriticsRating</th>\n",
       "      <th>rtAllCriticsNumReviews</th>\n",
       "      <th>rtAllCriticsNumFresh</th>\n",
       "      <th>rtAllCriticsNumRotten</th>\n",
       "      <th>rtAllCriticsScore</th>\n",
       "      <th>...</th>\n",
       "      <th>Production Budget</th>\n",
       "      <th>MPAA Rating</th>\n",
       "      <th>Running Time (min)</th>\n",
       "      <th>Distributor</th>\n",
       "      <th>Source</th>\n",
       "      <th>Major Genre</th>\n",
       "      <th>Creative Type</th>\n",
       "      <th>Director</th>\n",
       "      <th>IMDB Rating</th>\n",
       "      <th>IMDB Votes</th>\n",
       "    </tr>\n",
       "  </thead>\n",
       "  <tbody>\n",
       "    <tr>\n",
       "      <th>0</th>\n",
       "      <td>1</td>\n",
       "      <td>Toy story</td>\n",
       "      <td>114709</td>\n",
       "      <td>1995</td>\n",
       "      <td>toy_story</td>\n",
       "      <td>9</td>\n",
       "      <td>73</td>\n",
       "      <td>73</td>\n",
       "      <td>0</td>\n",
       "      <td>100</td>\n",
       "      <td>...</td>\n",
       "      <td>30000000.0</td>\n",
       "      <td>G</td>\n",
       "      <td>NaN</td>\n",
       "      <td>Walt Disney Pictures</td>\n",
       "      <td>Original Screenplay</td>\n",
       "      <td>Adventure</td>\n",
       "      <td>Kids Fiction</td>\n",
       "      <td>John Lasseter</td>\n",
       "      <td>8.2</td>\n",
       "      <td>151143.0</td>\n",
       "    </tr>\n",
       "    <tr>\n",
       "      <th>1</th>\n",
       "      <td>2</td>\n",
       "      <td>Jumanji</td>\n",
       "      <td>113497</td>\n",
       "      <td>1995</td>\n",
       "      <td>1068044-jumanji</td>\n",
       "      <td>5.6</td>\n",
       "      <td>28</td>\n",
       "      <td>13</td>\n",
       "      <td>15</td>\n",
       "      <td>46</td>\n",
       "      <td>...</td>\n",
       "      <td>65000000.0</td>\n",
       "      <td>PG</td>\n",
       "      <td>NaN</td>\n",
       "      <td>Sony Pictures</td>\n",
       "      <td>Based on Book/Short Story</td>\n",
       "      <td>Adventure</td>\n",
       "      <td>Fantasy</td>\n",
       "      <td>Joe Johnston</td>\n",
       "      <td>6.4</td>\n",
       "      <td>54973.0</td>\n",
       "    </tr>\n",
       "    <tr>\n",
       "      <th>2</th>\n",
       "      <td>7</td>\n",
       "      <td>Sabrina</td>\n",
       "      <td>47437</td>\n",
       "      <td>1954</td>\n",
       "      <td>1018047-sabrina</td>\n",
       "      <td>7.4</td>\n",
       "      <td>31</td>\n",
       "      <td>28</td>\n",
       "      <td>3</td>\n",
       "      <td>90</td>\n",
       "      <td>...</td>\n",
       "      <td>58000000.0</td>\n",
       "      <td>PG</td>\n",
       "      <td>NaN</td>\n",
       "      <td>Paramount Pictures</td>\n",
       "      <td>Remake</td>\n",
       "      <td>Romantic Comedy</td>\n",
       "      <td>Contemporary Fiction</td>\n",
       "      <td>Sydney Pollack</td>\n",
       "      <td>6.0</td>\n",
       "      <td>15749.0</td>\n",
       "    </tr>\n",
       "    <tr>\n",
       "      <th>3</th>\n",
       "      <td>10</td>\n",
       "      <td>GoldenEye</td>\n",
       "      <td>113189</td>\n",
       "      <td>1995</td>\n",
       "      <td>goldeneye</td>\n",
       "      <td>6.8</td>\n",
       "      <td>41</td>\n",
       "      <td>33</td>\n",
       "      <td>8</td>\n",
       "      <td>80</td>\n",
       "      <td>...</td>\n",
       "      <td>60000000.0</td>\n",
       "      <td>PG-13</td>\n",
       "      <td>NaN</td>\n",
       "      <td>MGM</td>\n",
       "      <td>Based on Book/Short Story</td>\n",
       "      <td>Action</td>\n",
       "      <td>Contemporary Fiction</td>\n",
       "      <td>Martin Campbell</td>\n",
       "      <td>7.2</td>\n",
       "      <td>69199.0</td>\n",
       "    </tr>\n",
       "    <tr>\n",
       "      <th>4</th>\n",
       "      <td>11</td>\n",
       "      <td>The American President</td>\n",
       "      <td>112346</td>\n",
       "      <td>1995</td>\n",
       "      <td>american_president</td>\n",
       "      <td>7</td>\n",
       "      <td>49</td>\n",
       "      <td>44</td>\n",
       "      <td>5</td>\n",
       "      <td>89</td>\n",
       "      <td>...</td>\n",
       "      <td>62000000.0</td>\n",
       "      <td>PG-13</td>\n",
       "      <td>NaN</td>\n",
       "      <td>Sony Pictures</td>\n",
       "      <td>Original Screenplay</td>\n",
       "      <td>Romantic Comedy</td>\n",
       "      <td>Contemporary Fiction</td>\n",
       "      <td>Rob Reiner</td>\n",
       "      <td>6.8</td>\n",
       "      <td>22780.0</td>\n",
       "    </tr>\n",
       "  </tbody>\n",
       "</table>\n",
       "<p>5 rows × 31 columns</p>\n",
       "</div>"
      ],
      "text/plain": [
       "   id                   title  imdbID  year                rtID  \\\n",
       "0   1               Toy story  114709  1995           toy_story   \n",
       "1   2                 Jumanji  113497  1995     1068044-jumanji   \n",
       "2   7                 Sabrina   47437  1954     1018047-sabrina   \n",
       "3  10               GoldenEye  113189  1995           goldeneye   \n",
       "4  11  The American President  112346  1995  american_president   \n",
       "\n",
       "  rtAllCriticsRating rtAllCriticsNumReviews rtAllCriticsNumFresh  \\\n",
       "0                  9                     73                   73   \n",
       "1                5.6                     28                   13   \n",
       "2                7.4                     31                   28   \n",
       "3                6.8                     41                   33   \n",
       "4                  7                     49                   44   \n",
       "\n",
       "  rtAllCriticsNumRotten rtAllCriticsScore    ...     Production Budget  \\\n",
       "0                     0               100    ...            30000000.0   \n",
       "1                    15                46    ...            65000000.0   \n",
       "2                     3                90    ...            58000000.0   \n",
       "3                     8                80    ...            60000000.0   \n",
       "4                     5                89    ...            62000000.0   \n",
       "\n",
       "  MPAA Rating Running Time (min)           Distributor  \\\n",
       "0           G                NaN  Walt Disney Pictures   \n",
       "1          PG                NaN         Sony Pictures   \n",
       "2          PG                NaN    Paramount Pictures   \n",
       "3       PG-13                NaN                   MGM   \n",
       "4       PG-13                NaN         Sony Pictures   \n",
       "\n",
       "                      Source      Major Genre         Creative Type  \\\n",
       "0        Original Screenplay        Adventure          Kids Fiction   \n",
       "1  Based on Book/Short Story        Adventure               Fantasy   \n",
       "2                     Remake  Romantic Comedy  Contemporary Fiction   \n",
       "3  Based on Book/Short Story           Action  Contemporary Fiction   \n",
       "4        Original Screenplay  Romantic Comedy  Contemporary Fiction   \n",
       "\n",
       "          Director IMDB Rating IMDB Votes  \n",
       "0    John Lasseter         8.2   151143.0  \n",
       "1     Joe Johnston         6.4    54973.0  \n",
       "2   Sydney Pollack         6.0    15749.0  \n",
       "3  Martin Campbell         7.2    69199.0  \n",
       "4       Rob Reiner         6.8    22780.0  \n",
       "\n",
       "[5 rows x 31 columns]"
      ]
     },
     "execution_count": 5,
     "metadata": {},
     "output_type": "execute_result"
    }
   ],
   "source": [
    "movies.head()"
   ]
  },
  {
   "cell_type": "code",
   "execution_count": 6,
   "metadata": {},
   "outputs": [
    {
     "data": {
      "text/plain": [
       "Index(['id', 'title', 'imdbID', 'year', 'rtID', 'rtAllCriticsRating',\n",
       "       'rtAllCriticsNumReviews', 'rtAllCriticsNumFresh',\n",
       "       'rtAllCriticsNumRotten', 'rtAllCriticsScore', 'rtTopCriticsRating',\n",
       "       'rtTopCriticsNumReviews', 'rtTopCriticsNumFresh',\n",
       "       'rtTopCriticsNumRotten', 'rtTopCriticsScore', 'rtAudienceRating',\n",
       "       'rtAudienceNumRatings', 'rtAudienceScore', 'US Gross',\n",
       "       'Worldwide Gross', 'US DVD Sales', 'Production Budget', 'MPAA Rating',\n",
       "       'Running Time (min)', 'Distributor', 'Source', 'Major Genre',\n",
       "       'Creative Type', 'Director', 'IMDB Rating', 'IMDB Votes'],\n",
       "      dtype='object')"
      ]
     },
     "execution_count": 6,
     "metadata": {},
     "output_type": "execute_result"
    }
   ],
   "source": [
    "movies.columns"
   ]
  },
  {
   "cell_type": "code",
   "execution_count": 7,
   "metadata": {},
   "outputs": [
    {
     "data": {
      "text/plain": [
       "id                          int64\n",
       "title                      object\n",
       "imdbID                      int64\n",
       "year                        int64\n",
       "rtID                       object\n",
       "rtAllCriticsRating         object\n",
       "rtAllCriticsNumReviews     object\n",
       "rtAllCriticsNumFresh       object\n",
       "rtAllCriticsNumRotten      object\n",
       "rtAllCriticsScore          object\n",
       "rtTopCriticsRating         object\n",
       "rtTopCriticsNumReviews     object\n",
       "rtTopCriticsNumFresh       object\n",
       "rtTopCriticsNumRotten      object\n",
       "rtTopCriticsScore          object\n",
       "rtAudienceRating           object\n",
       "rtAudienceNumRatings       object\n",
       "rtAudienceScore            object\n",
       "US Gross                   object\n",
       "Worldwide Gross            object\n",
       "US DVD Sales              float64\n",
       "Production Budget         float64\n",
       "MPAA Rating                object\n",
       "Running Time (min)        float64\n",
       "Distributor                object\n",
       "Source                     object\n",
       "Major Genre                object\n",
       "Creative Type              object\n",
       "Director                   object\n",
       "IMDB Rating               float64\n",
       "IMDB Votes                float64\n",
       "dtype: object"
      ]
     },
     "execution_count": 7,
     "metadata": {},
     "output_type": "execute_result"
    }
   ],
   "source": [
    "movies.dtypes"
   ]
  },
  {
   "cell_type": "markdown",
   "metadata": {},
   "source": [
    "### 1.1. Box Office Success\n",
    "\n",
    "One of the overarching question would be: **what factors are associated with the box office success of movies?**"
   ]
  },
  {
   "cell_type": "markdown",
   "metadata": {},
   "source": [
    "- The dataset has 31 columns and is made up of a set of critics ratings, genre, revenue earned etc. \n",
    "- Hypothesis: My hypothesis is that there is a correlation between Genre and Profit OR Production Budget and Profit. \n",
    "- The variables I am going to examine are Genre, Production Budget against Profit (calculated using Worldwide Gross-Production Budget).\n",
    "- Concerns: There could be a other variables such as time of the year, age demographic that contribute to a box office success but they are not available in the dataset. "
   ]
  },
  {
   "cell_type": "code",
   "execution_count": 21,
   "metadata": {},
   "outputs": [],
   "source": [
    "movies[\"Worldwide Gross\"] = pd.to_numeric(movies[\"Worldwide Gross\"], errors='coerce')\n",
    "movies['Major Genre'] = movies['Major Genre'].astype('category')\n",
    "movies['Distributor'] = movies['Distributor'].astype('category')"
   ]
  },
  {
   "cell_type": "code",
   "execution_count": 23,
   "metadata": {},
   "outputs": [
    {
     "name": "stderr",
     "output_type": "stream",
     "text": [
      "C:\\Users\\shett\\Anaconda3\\lib\\site-packages\\ipykernel_launcher.py:3: SettingWithCopyWarning: \n",
      "A value is trying to be set on a copy of a slice from a DataFrame.\n",
      "Try using .loc[row_indexer,col_indexer] = value instead\n",
      "\n",
      "See the caveats in the documentation: http://pandas.pydata.org/pandas-docs/stable/indexing.html#indexing-view-versus-copy\n",
      "  This is separate from the ipykernel package so we can avoid doing imports until\n"
     ]
    }
   ],
   "source": [
    "# EDA Codes\n",
    "eda_features = movies[['title','Worldwide Gross', 'Production Budget','Major Genre','Distributor']]\n",
    "eda_features['World Profit'] = (eda_features['Worldwide Gross'] - eda_features['Production Budget'])"
   ]
  },
  {
   "cell_type": "code",
   "execution_count": 61,
   "metadata": {},
   "outputs": [
    {
     "data": {
      "text/html": [
       "<div>\n",
       "<style scoped>\n",
       "    .dataframe tbody tr th:only-of-type {\n",
       "        vertical-align: middle;\n",
       "    }\n",
       "\n",
       "    .dataframe tbody tr th {\n",
       "        vertical-align: top;\n",
       "    }\n",
       "\n",
       "    .dataframe thead th {\n",
       "        text-align: right;\n",
       "    }\n",
       "</style>\n",
       "<table border=\"1\" class=\"dataframe\">\n",
       "  <thead>\n",
       "    <tr style=\"text-align: right;\">\n",
       "      <th></th>\n",
       "      <th>title</th>\n",
       "      <th>Worldwide Gross</th>\n",
       "      <th>Production Budget</th>\n",
       "      <th>Major Genre</th>\n",
       "      <th>World Profit</th>\n",
       "    </tr>\n",
       "  </thead>\n",
       "  <tbody>\n",
       "    <tr>\n",
       "      <th>0</th>\n",
       "      <td>Toy story</td>\n",
       "      <td>361948825.0</td>\n",
       "      <td>30000000.0</td>\n",
       "      <td>Adventure</td>\n",
       "      <td>331948825.0</td>\n",
       "    </tr>\n",
       "    <tr>\n",
       "      <th>1</th>\n",
       "      <td>Jumanji</td>\n",
       "      <td>262758310.0</td>\n",
       "      <td>65000000.0</td>\n",
       "      <td>Adventure</td>\n",
       "      <td>197758310.0</td>\n",
       "    </tr>\n",
       "    <tr>\n",
       "      <th>2</th>\n",
       "      <td>Sabrina</td>\n",
       "      <td>87100000.0</td>\n",
       "      <td>58000000.0</td>\n",
       "      <td>Romantic Comedy</td>\n",
       "      <td>29100000.0</td>\n",
       "    </tr>\n",
       "    <tr>\n",
       "      <th>3</th>\n",
       "      <td>GoldenEye</td>\n",
       "      <td>356429941.0</td>\n",
       "      <td>60000000.0</td>\n",
       "      <td>Action</td>\n",
       "      <td>296429941.0</td>\n",
       "    </tr>\n",
       "    <tr>\n",
       "      <th>4</th>\n",
       "      <td>The American President</td>\n",
       "      <td>107822813.0</td>\n",
       "      <td>62000000.0</td>\n",
       "      <td>Romantic Comedy</td>\n",
       "      <td>45822813.0</td>\n",
       "    </tr>\n",
       "  </tbody>\n",
       "</table>\n",
       "</div>"
      ],
      "text/plain": [
       "                    title  Worldwide Gross  Production Budget  \\\n",
       "0               Toy story      361948825.0         30000000.0   \n",
       "1                 Jumanji      262758310.0         65000000.0   \n",
       "2                 Sabrina       87100000.0         58000000.0   \n",
       "3               GoldenEye      356429941.0         60000000.0   \n",
       "4  The American President      107822813.0         62000000.0   \n",
       "\n",
       "       Major Genre  World Profit  \n",
       "0        Adventure   331948825.0  \n",
       "1        Adventure   197758310.0  \n",
       "2  Romantic Comedy    29100000.0  \n",
       "3           Action   296429941.0  \n",
       "4  Romantic Comedy    45822813.0  "
      ]
     },
     "execution_count": 61,
     "metadata": {},
     "output_type": "execute_result"
    }
   ],
   "source": [
    "eda_features.head()"
   ]
  },
  {
   "cell_type": "code",
   "execution_count": 10,
   "metadata": {},
   "outputs": [
    {
     "data": {
      "text/plain": [
       "Index(['title', 'Worldwide Gross', 'Production Budget', 'Major Genre',\n",
       "       'World Profit'],\n",
       "      dtype='object')"
      ]
     },
     "execution_count": 10,
     "metadata": {},
     "output_type": "execute_result"
    }
   ],
   "source": [
    "eda_features.columns"
   ]
  },
  {
   "cell_type": "code",
   "execution_count": 11,
   "metadata": {},
   "outputs": [
    {
     "name": "stderr",
     "output_type": "stream",
     "text": [
      "C:\\Users\\shett\\Anaconda3\\lib\\site-packages\\ipykernel_launcher.py:10: SettingWithCopyWarning: \n",
      "A value is trying to be set on a copy of a slice from a DataFrame.\n",
      "Try using .loc[row_indexer,col_indexer] = value instead\n",
      "\n",
      "See the caveats in the documentation: http://pandas.pydata.org/pandas-docs/stable/indexing.html#indexing-view-versus-copy\n",
      "  # Remove the CWD from sys.path while we load stuff.\n"
     ]
    }
   ],
   "source": [
    "# create a new column for color coding categories of data points\n",
    "color_list = []\n",
    "for row in eda_features.iterrows():\n",
    "    if row[1]['World Profit'] > 100000000:\n",
    "        color_list.append('green')\n",
    "    elif row[1]['World Profit'] < 0:\n",
    "        color_list.append('red')\n",
    "    else:\n",
    "        color_list.append('orange')\n",
    "eda_features['point_color'] = color_list"
   ]
  },
  {
   "cell_type": "code",
   "execution_count": 19,
   "metadata": {},
   "outputs": [
    {
     "data": {
      "text/plain": [
       "Text(0.5,1,'Movie trends')"
      ]
     },
     "execution_count": 19,
     "metadata": {},
     "output_type": "execute_result"
    },
    {
     "data": {
      "image/png": "[encoded data removed]",
      "text/plain": [
       "<Figure size 432x288 with 1 Axes>"
      ]
     },
     "metadata": {
      "needs_background": "light"
     },
     "output_type": "display_data"
    }
   ],
   "source": [
    "plt.scatter(x=eda_features['Production Budget'], \n",
    "            y= eda_features['World Profit'], \n",
    "            c=eda_features['point_color'])\n",
    "plt.ylim([-0.5e9,2e9])\n",
    "plt.xlabel(\"Production Budget in USD\")\n",
    "plt.ylabel(\"Worldwide Profit in USD\")\n",
    "plt.title(\"Movie trends\")"
   ]
  },
  {
   "cell_type": "markdown",
   "metadata": {},
   "source": [
    "Discussion: The above plot shows that there isnt a strong correlation between production budget and profit. This could be because the performance of a movie could depend on a host of other stronger reasons such as plot of the movie, marketing strategy, time of the year it was released etc."
   ]
  },
  {
   "cell_type": "code",
   "execution_count": 35,
   "metadata": {
    "scrolled": false
   },
   "outputs": [
    {
     "data": {
      "text/plain": [
       "Text(0.5,1,'Movie trends by genre')"
      ]
     },
     "execution_count": 35,
     "metadata": {},
     "output_type": "execute_result"
    },
    {
     "data": {
      "image/png": "[encoded data removed]",
      "text/plain": [
       "<Figure size 432x288 with 1 Axes>"
      ]
     },
     "metadata": {
      "needs_background": "light"
     },
     "output_type": "display_data"
    }
   ],
   "source": [
    "movie_genres = eda_features['Major Genre'].unique().dropna()\n",
    "\n",
    "total_profit = list()\n",
    "for genre in movie_genres:\n",
    "    no_of_film_genre = len(eda_features.loc[eda_features['Major Genre'] == genre])\n",
    "    total_budget = eda_features.loc[eda_features['Major Genre'] == genre]['Production Budget'].sum()\n",
    "    unit_genre_profit = (eda_features.loc[eda_features['Major Genre'] == genre]['World Profit'].sum())/no_of_film_genre\n",
    "    unit_genre_profit_margin = unit_genre_profit/total_budget\n",
    "    total_profit.append(unit_genre_profit_margin)\n",
    "\n",
    "plt.barh(movie_genres,total_profit)\n",
    "plt.xlabel(\"Unit Profit Margin\")\n",
    "plt.ylabel(\"Genres\")\n",
    "plt.title(\"Movie trends by genre\")"
   ]
  },
  {
   "cell_type": "markdown",
   "metadata": {},
   "source": [
    "Discussion: The above plot shows that certain types of genres such as concert or performance related movies generate a better ROI as compared to other genres based on profit margin. This could be that certain kinds of genres, have a very dedicated fanbase such as in the case of performance oriented movies OR they perform well inspite of having a small budget such as documentaries."
   ]
  },
  {
   "cell_type": "code",
   "execution_count": 30,
   "metadata": {},
   "outputs": [
    {
     "data": {
      "image/png": "[encoded data removed]",
      "text/plain": [
       "<Figure size 432x288 with 1 Axes>"
      ]
     },
     "metadata": {
      "needs_background": "light"
     },
     "output_type": "display_data"
    },
    {
     "name": "stdout",
     "output_type": "stream",
     "text": [
      "Distributor\n",
      "Newmarket Films         1.354077e+08\n",
      "Dreamworks SKG          1.066458e+08\n",
      "Summit Entertainment    9.606759e+07\n",
      "Walt Disney Pictures    9.584064e+07\n",
      "Paramount Pictures      8.362513e+07\n",
      "Name: World Profit, dtype: float64\n"
     ]
    }
   ],
   "source": [
    "movies_data_genre =eda_features.groupby(['Distributor'])['World Profit'].mean()\n",
    "movies_data_genre\n",
    "\n",
    "movies_data_genre.sort_values(ascending=False)[:5].plot.bar()\n",
    "\n",
    "plt.show()\n",
    "print(movies_data_genre.sort_values(ascending=False)[:5])"
   ]
  },
  {
   "cell_type": "markdown",
   "metadata": {},
   "source": [
    "Discussion: The above plot shows that certain kinds of distributors achieve better box office success as compared to others. This could be because of a number of reasons such as having a pre-established name, better connections around the world, a better marketing team etc. "
   ]
  },
  {
   "cell_type": "markdown",
   "metadata": {},
   "source": [
    "### 1.2. Consistency between movie ratings\n",
    "\n",
    "Next, I will compare movie ratings given by critics versus audience on the Rotten tomatoes.\n",
    "\n",
    "* Do users agree with critics in terms of movie ratings on the Rotten Tomatoes? When they do and when they don't?"
   ]
  },
  {
   "cell_type": "markdown",
   "metadata": {},
   "source": [
    "- The dataset has 31 columns and is made up of a set of critics ratings, genre, revenue earned etc. \n",
    "- The variables I am going to examine are rtAllCriticsRating against rtAudienceRating.\n",
    "- Concerns: There could be a other factors such age demographic that contribute to a box office success but they are not available in the dataset. "
   ]
  },
  {
   "cell_type": "code",
   "execution_count": 37,
   "metadata": {},
   "outputs": [
    {
     "data": {
      "image/png": "[encoded data removed]",
      "text/plain": [
       "<Figure size 432x288 with 1 Axes>"
      ]
     },
     "metadata": {
      "needs_background": "light"
     },
     "output_type": "display_data"
    }
   ],
   "source": [
    "#  EDA\n",
    "\n",
    "movies[\"rtAllCriticsRating\"] = pd.to_numeric(movies[\"rtAllCriticsRating\"], errors='coerce')/10\n",
    "movies[\"rtAudienceRating\"] = pd.to_numeric(movies[\"rtAudienceRating\"], errors='coerce')/5\n",
    "\n",
    "subset = movies[['rtAllCriticsRating', 'rtAudienceRating']]\n",
    "\n",
    "# plot the data points to visualize so that we can spot any patterns\n",
    "p = plt.subplot(111)\n",
    "plt.scatter(x=subset['rtAllCriticsRating'], \n",
    "            y=subset['rtAudienceRating'])\n",
    "plt.xlabel(\"Movie ratings given by critics\")\n",
    "plt.ylabel(\"Movie ratings given by audiences\")\n",
    "plt.title(\"Comparison of ratings on Rotten Tomatoes\")\n",
    "p.spines['right'].set_visible(False)\n",
    "p.spines['top'].set_visible(False)"
   ]
  },
  {
   "cell_type": "markdown",
   "metadata": {},
   "source": [
    "Step 3. Discussion: From the above graph I infer that critics rating and audience rating roughly match each other most of the times."
   ]
  },
  {
   "cell_type": "markdown",
   "metadata": {},
   "source": [
    "## Part 2 - Analyzing Movie Reviews"
   ]
  },
  {
   "cell_type": "markdown",
   "metadata": {},
   "source": [
    "Now let's move on to build a Naive Bayes classifier to predict whether a review is Fresh or Rotten, based on the text of the review."
   ]
  },
  {
   "cell_type": "code",
   "execution_count": 7,
   "metadata": {},
   "outputs": [],
   "source": [
    "# Import movie reviews data\n",
    "reviews = pd.read_csv(\"reviews.csv\")"
   ]
  },
  {
   "cell_type": "markdown",
   "metadata": {},
   "source": [
    "### 2.1 Text Cleaning and Unigram Representation\n",
    "\n",
    "Before I get into the text classification, let's spend some time work with the reviews text! \n",
    "In this part, I will first clean the reviews by:\n",
    "\n",
    "* Ignoring case\n",
    "* Ignoring punctuation & extra whitespaces\n",
    "* Removing stopwords\n",
    "\n",
    "Then, I will tokenize the reviews; in other words, convert the text fields into \"bag of words\" vectors.\n",
    "One thing that will be used is the [`CountVectorizer`](http://scikit-learn.org/stable/modules/generated/sklearn.feature_extraction.text.CountVectorizer.html) object in Scikit-learn. This function also provides built-in methods to lower cases, remove punctuations, whitespaces and stopwords. Eventually, we will get a bag-of-words array from the reviews data. I will name the complete feature set as X and the target (i.e. rotten or fresh labels) as Y.\n",
    "\n",
    "* X is a (nreview, nwords) array. Each row corresponds to a bag-of-words representation for a single review. This will be the input to my model.\n",
    "* Y is a nreview-element 1/0 array, encoding whether a review is Fresh (1) or Rotten (0). This is the desired output from the model."
   ]
  },
  {
   "cell_type": "code",
   "execution_count": 8,
   "metadata": {},
   "outputs": [
    {
     "data": {
      "text/html": [
       "<div>\n",
       "<style scoped>\n",
       "    .dataframe tbody tr th:only-of-type {\n",
       "        vertical-align: middle;\n",
       "    }\n",
       "\n",
       "    .dataframe tbody tr th {\n",
       "        vertical-align: top;\n",
       "    }\n",
       "\n",
       "    .dataframe thead th {\n",
       "        text-align: right;\n",
       "    }\n",
       "</style>\n",
       "<table border=\"1\" class=\"dataframe\">\n",
       "  <thead>\n",
       "    <tr style=\"text-align: right;\">\n",
       "      <th></th>\n",
       "      <th>critic</th>\n",
       "      <th>fresh</th>\n",
       "      <th>imdb</th>\n",
       "      <th>link</th>\n",
       "      <th>publication</th>\n",
       "      <th>quote</th>\n",
       "      <th>review_date</th>\n",
       "      <th>rtid</th>\n",
       "      <th>title</th>\n",
       "    </tr>\n",
       "  </thead>\n",
       "  <tbody>\n",
       "    <tr>\n",
       "      <th>0</th>\n",
       "      <td>Derek Adams</td>\n",
       "      <td>fresh</td>\n",
       "      <td>114709</td>\n",
       "      <td>http://www.timeout.com/film/reviews/87745/toy-...</td>\n",
       "      <td>Time Out</td>\n",
       "      <td>So ingenious in concept, design and execution ...</td>\n",
       "      <td>2009-10-04 00:00:00</td>\n",
       "      <td>9559</td>\n",
       "      <td>Toy Story</td>\n",
       "    </tr>\n",
       "    <tr>\n",
       "      <th>1</th>\n",
       "      <td>Richard Corliss</td>\n",
       "      <td>fresh</td>\n",
       "      <td>114709</td>\n",
       "      <td>http://www.time.com/time/magazine/article/0,91...</td>\n",
       "      <td>TIME Magazine</td>\n",
       "      <td>The year's most inventive comedy.</td>\n",
       "      <td>2008-08-31 00:00:00</td>\n",
       "      <td>9559</td>\n",
       "      <td>Toy Story</td>\n",
       "    </tr>\n",
       "    <tr>\n",
       "      <th>2</th>\n",
       "      <td>David Ansen</td>\n",
       "      <td>fresh</td>\n",
       "      <td>114709</td>\n",
       "      <td>http://www.newsweek.com/id/104199</td>\n",
       "      <td>Newsweek</td>\n",
       "      <td>A winning animated feature that has something ...</td>\n",
       "      <td>2008-08-18 00:00:00</td>\n",
       "      <td>9559</td>\n",
       "      <td>Toy Story</td>\n",
       "    </tr>\n",
       "    <tr>\n",
       "      <th>3</th>\n",
       "      <td>Leonard Klady</td>\n",
       "      <td>fresh</td>\n",
       "      <td>114709</td>\n",
       "      <td>http://www.variety.com/review/VE1117941294.htm...</td>\n",
       "      <td>Variety</td>\n",
       "      <td>The film sports a provocative and appealing st...</td>\n",
       "      <td>2008-06-09 00:00:00</td>\n",
       "      <td>9559</td>\n",
       "      <td>Toy Story</td>\n",
       "    </tr>\n",
       "    <tr>\n",
       "      <th>4</th>\n",
       "      <td>Jonathan Rosenbaum</td>\n",
       "      <td>fresh</td>\n",
       "      <td>114709</td>\n",
       "      <td>http://onfilm.chicagoreader.com/movies/capsule...</td>\n",
       "      <td>Chicago Reader</td>\n",
       "      <td>An entertaining computer-generated, hyperreali...</td>\n",
       "      <td>2008-03-10 00:00:00</td>\n",
       "      <td>9559</td>\n",
       "      <td>Toy Story</td>\n",
       "    </tr>\n",
       "  </tbody>\n",
       "</table>\n",
       "</div>"
      ],
      "text/plain": [
       "               critic  fresh    imdb  \\\n",
       "0         Derek Adams  fresh  114709   \n",
       "1     Richard Corliss  fresh  114709   \n",
       "2         David Ansen  fresh  114709   \n",
       "3       Leonard Klady  fresh  114709   \n",
       "4  Jonathan Rosenbaum  fresh  114709   \n",
       "\n",
       "                                                link     publication  \\\n",
       "0  http://www.timeout.com/film/reviews/87745/toy-...        Time Out   \n",
       "1  http://www.time.com/time/magazine/article/0,91...   TIME Magazine   \n",
       "2                  http://www.newsweek.com/id/104199        Newsweek   \n",
       "3  http://www.variety.com/review/VE1117941294.htm...         Variety   \n",
       "4  http://onfilm.chicagoreader.com/movies/capsule...  Chicago Reader   \n",
       "\n",
       "                                               quote          review_date  \\\n",
       "0  So ingenious in concept, design and execution ...  2009-10-04 00:00:00   \n",
       "1                  The year's most inventive comedy.  2008-08-31 00:00:00   \n",
       "2  A winning animated feature that has something ...  2008-08-18 00:00:00   \n",
       "3  The film sports a provocative and appealing st...  2008-06-09 00:00:00   \n",
       "4  An entertaining computer-generated, hyperreali...  2008-03-10 00:00:00   \n",
       "\n",
       "   rtid      title  \n",
       "0  9559  Toy Story  \n",
       "1  9559  Toy Story  \n",
       "2  9559  Toy Story  \n",
       "3  9559  Toy Story  \n",
       "4  9559  Toy Story  "
      ]
     },
     "execution_count": 8,
     "metadata": {},
     "output_type": "execute_result"
    }
   ],
   "source": [
    "reviews.head()"
   ]
  },
  {
   "cell_type": "code",
   "execution_count": null,
   "metadata": {},
   "outputs": [],
   "source": [
    "# text cleaning & tokenizing\n",
    "from nltk.corpus import stopwords\n",
    "import re\n",
    "\n",
    "#Review cleaning\n",
    "reviews.quote = reviews.quote.str.lower()\n",
    "reviews.quote = reviews.quote.str.strip()\n",
    "reviews.quote = reviews.quote.str.replace('[^\\w\\s]', ' ')\n",
    "reviews.quote = reviews.quote.apply(lambda x: ' '.join([word for word in x.split() if word not in stopwords.words('english')]))\n",
    "reviews.head()"
   ]
  },
  {
   "cell_type": "code",
   "execution_count": 5,
   "metadata": {},
   "outputs": [
    {
     "data": {
      "text/html": [
       "<div>\n",
       "<style scoped>\n",
       "    .dataframe tbody tr th:only-of-type {\n",
       "        vertical-align: middle;\n",
       "    }\n",
       "\n",
       "    .dataframe tbody tr th {\n",
       "        vertical-align: top;\n",
       "    }\n",
       "\n",
       "    .dataframe thead th {\n",
       "        text-align: right;\n",
       "    }\n",
       "</style>\n",
       "<table border=\"1\" class=\"dataframe\">\n",
       "  <thead>\n",
       "    <tr style=\"text-align: right;\">\n",
       "      <th></th>\n",
       "      <th>critic</th>\n",
       "      <th>fresh</th>\n",
       "      <th>imdb</th>\n",
       "      <th>link</th>\n",
       "      <th>publication</th>\n",
       "      <th>quote</th>\n",
       "      <th>review_date</th>\n",
       "      <th>rtid</th>\n",
       "      <th>title</th>\n",
       "    </tr>\n",
       "  </thead>\n",
       "  <tbody>\n",
       "    <tr>\n",
       "      <th>0</th>\n",
       "      <td>Derek Adams</td>\n",
       "      <td>fresh</td>\n",
       "      <td>114709</td>\n",
       "      <td>http://www.timeout.com/film/reviews/87745/toy-...</td>\n",
       "      <td>Time Out</td>\n",
       "      <td>[So, ingenious, in, concept, ,, design, and, e...</td>\n",
       "      <td>2009-10-04 00:00:00</td>\n",
       "      <td>9559</td>\n",
       "      <td>Toy Story</td>\n",
       "    </tr>\n",
       "    <tr>\n",
       "      <th>1</th>\n",
       "      <td>Richard Corliss</td>\n",
       "      <td>fresh</td>\n",
       "      <td>114709</td>\n",
       "      <td>http://www.time.com/time/magazine/article/0,91...</td>\n",
       "      <td>TIME Magazine</td>\n",
       "      <td>[The, year, 's, most, inventive, comedy, .]</td>\n",
       "      <td>2008-08-31 00:00:00</td>\n",
       "      <td>9559</td>\n",
       "      <td>Toy Story</td>\n",
       "    </tr>\n",
       "    <tr>\n",
       "      <th>2</th>\n",
       "      <td>David Ansen</td>\n",
       "      <td>fresh</td>\n",
       "      <td>114709</td>\n",
       "      <td>http://www.newsweek.com/id/104199</td>\n",
       "      <td>Newsweek</td>\n",
       "      <td>[A, winning, animated, feature, that, has, som...</td>\n",
       "      <td>2008-08-18 00:00:00</td>\n",
       "      <td>9559</td>\n",
       "      <td>Toy Story</td>\n",
       "    </tr>\n",
       "    <tr>\n",
       "      <th>3</th>\n",
       "      <td>Leonard Klady</td>\n",
       "      <td>fresh</td>\n",
       "      <td>114709</td>\n",
       "      <td>http://www.variety.com/review/VE1117941294.htm...</td>\n",
       "      <td>Variety</td>\n",
       "      <td>[The, film, sports, a, provocative, and, appea...</td>\n",
       "      <td>2008-06-09 00:00:00</td>\n",
       "      <td>9559</td>\n",
       "      <td>Toy Story</td>\n",
       "    </tr>\n",
       "    <tr>\n",
       "      <th>4</th>\n",
       "      <td>Jonathan Rosenbaum</td>\n",
       "      <td>fresh</td>\n",
       "      <td>114709</td>\n",
       "      <td>http://onfilm.chicagoreader.com/movies/capsule...</td>\n",
       "      <td>Chicago Reader</td>\n",
       "      <td>[An, entertaining, computer-generated, ,, hype...</td>\n",
       "      <td>2008-03-10 00:00:00</td>\n",
       "      <td>9559</td>\n",
       "      <td>Toy Story</td>\n",
       "    </tr>\n",
       "  </tbody>\n",
       "</table>\n",
       "</div>"
      ],
      "text/plain": [
       "               critic  fresh    imdb  \\\n",
       "0         Derek Adams  fresh  114709   \n",
       "1     Richard Corliss  fresh  114709   \n",
       "2         David Ansen  fresh  114709   \n",
       "3       Leonard Klady  fresh  114709   \n",
       "4  Jonathan Rosenbaum  fresh  114709   \n",
       "\n",
       "                                                link     publication  \\\n",
       "0  http://www.timeout.com/film/reviews/87745/toy-...        Time Out   \n",
       "1  http://www.time.com/time/magazine/article/0,91...   TIME Magazine   \n",
       "2                  http://www.newsweek.com/id/104199        Newsweek   \n",
       "3  http://www.variety.com/review/VE1117941294.htm...         Variety   \n",
       "4  http://onfilm.chicagoreader.com/movies/capsule...  Chicago Reader   \n",
       "\n",
       "                                               quote          review_date  \\\n",
       "0  [So, ingenious, in, concept, ,, design, and, e...  2009-10-04 00:00:00   \n",
       "1        [The, year, 's, most, inventive, comedy, .]  2008-08-31 00:00:00   \n",
       "2  [A, winning, animated, feature, that, has, som...  2008-08-18 00:00:00   \n",
       "3  [The, film, sports, a, provocative, and, appea...  2008-06-09 00:00:00   \n",
       "4  [An, entertaining, computer-generated, ,, hype...  2008-03-10 00:00:00   \n",
       "\n",
       "   rtid      title  \n",
       "0  9559  Toy Story  \n",
       "1  9559  Toy Story  \n",
       "2  9559  Toy Story  \n",
       "3  9559  Toy Story  \n",
       "4  9559  Toy Story  "
      ]
     },
     "execution_count": 5,
     "metadata": {},
     "output_type": "execute_result"
    }
   ],
   "source": [
    "from nltk.tokenize import word_tokenize\n",
    "reviews.quote = reviews.quote.apply(word_tokenize)\n",
    "reviews.head()"
   ]
  },
  {
   "cell_type": "code",
   "execution_count": 91,
   "metadata": {},
   "outputs": [
    {
     "name": "stdout",
     "output_type": "stream",
     "text": [
      "['ingenious concept design execution could watch postage stamp sized screen still engulfed charm', 'year inventive comedy']\n"
     ]
    }
   ],
   "source": [
    "X = reviews['quote']\n",
    "X_data = [\" \".join(t) for t in X.values]\n",
    "print(X_data[:2])"
   ]
  },
  {
   "cell_type": "code",
   "execution_count": 92,
   "metadata": {},
   "outputs": [
    {
     "data": {
      "text/plain": [
       "0    1\n",
       "1    1\n",
       "2    1\n",
       "3    1\n",
       "4    1\n",
       "Name: fresh, dtype: int64"
      ]
     },
     "execution_count": 92,
     "metadata": {},
     "output_type": "execute_result"
    }
   ],
   "source": [
    "Y = reviews['fresh'].apply(lambda x: 1 if x == \"fresh\" else 0)\n",
    "Y.head()"
   ]
  },
  {
   "cell_type": "markdown",
   "metadata": {},
   "source": [
    "### 2.2 Train-Test Split\n",
    "\n",
    "Next, randomly split the data into a training set (67%) and a test set (33%) using [`train_test_split`](http://scikit-learn.org/stable/modules/generated/sklearn.model_selection.train_test_split.html)."
   ]
  },
  {
   "cell_type": "code",
   "execution_count": 93,
   "metadata": {},
   "outputs": [],
   "source": [
    "from sklearn.feature_extraction.text import CountVectorizer\n",
    "vectorizer = CountVectorizer()\n",
    "vectorizer.fit(X_data)\n",
    "X_data = vectorizer.transform(X_data)\n",
    "X_data = X_data.toarray()\n",
    "\n",
    "# Make a train/test split\n",
    "from sklearn.model_selection import train_test_split\n",
    "X_train, X_test, Y_train, Y_test = train_test_split(X_data, Y, test_size=0.33, random_state=42)"
   ]
  },
  {
   "cell_type": "code",
   "execution_count": 94,
   "metadata": {},
   "outputs": [
    {
     "data": {
      "text/plain": [
       "array([[0, 0, 0, ..., 0, 1, 0],\n",
       "       [0, 0, 0, ..., 0, 0, 0],\n",
       "       [0, 0, 0, ..., 0, 0, 0],\n",
       "       ...,\n",
       "       [0, 0, 0, ..., 0, 0, 0],\n",
       "       [0, 0, 0, ..., 0, 0, 0],\n",
       "       [0, 0, 0, ..., 0, 0, 0]], dtype=int64)"
      ]
     },
     "execution_count": 94,
     "metadata": {},
     "output_type": "execute_result"
    }
   ],
   "source": [
    "X_train"
   ]
  },
  {
   "cell_type": "markdown",
   "metadata": {},
   "source": [
    "### 2.3 Rotten or Fresh? Reviews Classification using Naive Bayes (5 pts)\n",
    "Now let's train a Naive Bayes classifier!"
   ]
  },
  {
   "cell_type": "code",
   "execution_count": 95,
   "metadata": {},
   "outputs": [
    {
     "name": "stdout",
     "output_type": "stream",
     "text": [
      "Test data score: 0.7781785392245266\n",
      "Train data score: 0.9247168554297135\n"
     ]
    }
   ],
   "source": [
    "from sklearn.naive_bayes import MultinomialNB\n",
    "# call the fitted model fitted_model, for future reference:\n",
    "fitted_model = MultinomialNB()\n",
    "fitted_model.fit(X_train, Y_train)\n",
    "print(\"Test data score:\",fitted_model.score(X_test, Y_test))\n",
    "print(\"Train data score:\",fitted_model.score(X_train, Y_train))"
   ]
  },
  {
   "cell_type": "markdown",
   "metadata": {},
   "source": [
    "Discussion: The accuracy on the training set is higher than that on the test set. This is as expected because the model is fitted on the training data and will therefore have a higher accuracy on the training set as compared to an unknown set which in this case is the test set."
   ]
  },
  {
   "cell_type": "markdown",
   "metadata": {},
   "source": [
    "### 2.4 Adding Text Normalization\n",
    "Previously, I cleaned the reviews by ignoring cases, removing stopwords, extra whitespaces and punctuations. Now, let's also try to reduce words to their stems. \n",
    "\n",
    "I will use the PorterStemmer algorithm to perform word stemming on movie review strings. The NLTK package has an implementation of this algorithm. Then, extract bag-of-words features based on the stemmed data and conduct machine learning experiments again as you did from 2.2 to 2.4. Compare the performance of this NB model with the performance in 2.3."
   ]
  },
  {
   "cell_type": "code",
   "execution_count": 96,
   "metadata": {},
   "outputs": [],
   "source": [
    "from nltk.stem import LancasterStemmer, WordNetLemmatizer\n",
    "\n",
    "def stem_words(words):\n",
    "    \"\"\"Stem words in list of tokenized words\"\"\"\n",
    "    stemmer = LancasterStemmer()\n",
    "    stems = []\n",
    "    for word in words:\n",
    "        stem = stemmer.stem(word)\n",
    "        stems.append(stem)\n",
    "    return stems\n",
    "\n",
    "def lemmatize_verbs(words):\n",
    "    \"\"\"Lemmatize verbs in list of tokenized words\"\"\"\n",
    "    lemmatizer = WordNetLemmatizer()\n",
    "    lemmas = []\n",
    "    for word in words:\n",
    "        lemma = lemmatizer.lemmatize(word, pos='v')\n",
    "        lemmas.append(lemma)\n",
    "    return lemmas\n",
    "\n",
    "def stem_and_lemmatize(words):\n",
    "    stems = stem_words(words)\n",
    "    lemmas = lemmatize_verbs(stems)\n",
    "    return lemmas"
   ]
  },
  {
   "cell_type": "code",
   "execution_count": 97,
   "metadata": {
    "scrolled": true
   },
   "outputs": [
    {
     "data": {
      "text/html": [
       "<div>\n",
       "<style scoped>\n",
       "    .dataframe tbody tr th:only-of-type {\n",
       "        vertical-align: middle;\n",
       "    }\n",
       "\n",
       "    .dataframe tbody tr th {\n",
       "        vertical-align: top;\n",
       "    }\n",
       "\n",
       "    .dataframe thead th {\n",
       "        text-align: right;\n",
       "    }\n",
       "</style>\n",
       "<table border=\"1\" class=\"dataframe\">\n",
       "  <thead>\n",
       "    <tr style=\"text-align: right;\">\n",
       "      <th></th>\n",
       "      <th>critic</th>\n",
       "      <th>fresh</th>\n",
       "      <th>imdb</th>\n",
       "      <th>link</th>\n",
       "      <th>publication</th>\n",
       "      <th>quote</th>\n",
       "      <th>review_date</th>\n",
       "      <th>rtid</th>\n",
       "      <th>title</th>\n",
       "    </tr>\n",
       "  </thead>\n",
       "  <tbody>\n",
       "    <tr>\n",
       "      <th>0</th>\n",
       "      <td>Derek Adams</td>\n",
       "      <td>fresh</td>\n",
       "      <td>114709</td>\n",
       "      <td>http://www.timeout.com/film/reviews/87745/toy-...</td>\n",
       "      <td>Time Out</td>\n",
       "      <td>[ingeny, conceiv, design, execut, could, watch...</td>\n",
       "      <td>2009-10-04 00:00:00</td>\n",
       "      <td>9559</td>\n",
       "      <td>Toy Story</td>\n",
       "    </tr>\n",
       "    <tr>\n",
       "      <th>1</th>\n",
       "      <td>Richard Corliss</td>\n",
       "      <td>fresh</td>\n",
       "      <td>114709</td>\n",
       "      <td>http://www.time.com/time/magazine/article/0,91...</td>\n",
       "      <td>TIME Magazine</td>\n",
       "      <td>[year, inv, comedy]</td>\n",
       "      <td>2008-08-31 00:00:00</td>\n",
       "      <td>9559</td>\n",
       "      <td>Toy Story</td>\n",
       "    </tr>\n",
       "    <tr>\n",
       "      <th>2</th>\n",
       "      <td>David Ansen</td>\n",
       "      <td>fresh</td>\n",
       "      <td>114709</td>\n",
       "      <td>http://www.newsweek.com/id/104199</td>\n",
       "      <td>Newsweek</td>\n",
       "      <td>[win, anim, feat, someth, everyon, ag, spectr]</td>\n",
       "      <td>2008-08-18 00:00:00</td>\n",
       "      <td>9559</td>\n",
       "      <td>Toy Story</td>\n",
       "    </tr>\n",
       "    <tr>\n",
       "      <th>3</th>\n",
       "      <td>Leonard Klady</td>\n",
       "      <td>fresh</td>\n",
       "      <td>114709</td>\n",
       "      <td>http://www.variety.com/review/VE1117941294.htm...</td>\n",
       "      <td>Variety</td>\n",
       "      <td>[film, sport, provoc, ap, story, every, bite, ...</td>\n",
       "      <td>2008-06-09 00:00:00</td>\n",
       "      <td>9559</td>\n",
       "      <td>Toy Story</td>\n",
       "    </tr>\n",
       "    <tr>\n",
       "      <th>4</th>\n",
       "      <td>Jonathan Rosenbaum</td>\n",
       "      <td>fresh</td>\n",
       "      <td>114709</td>\n",
       "      <td>http://onfilm.chicagoreader.com/movies/capsule...</td>\n",
       "      <td>Chicago Reader</td>\n",
       "      <td>[entertain, comput, gen, hyper, anim, feat, 19...</td>\n",
       "      <td>2008-03-10 00:00:00</td>\n",
       "      <td>9559</td>\n",
       "      <td>Toy Story</td>\n",
       "    </tr>\n",
       "  </tbody>\n",
       "</table>\n",
       "</div>"
      ],
      "text/plain": [
       "               critic  fresh    imdb  \\\n",
       "0         Derek Adams  fresh  114709   \n",
       "1     Richard Corliss  fresh  114709   \n",
       "2         David Ansen  fresh  114709   \n",
       "3       Leonard Klady  fresh  114709   \n",
       "4  Jonathan Rosenbaum  fresh  114709   \n",
       "\n",
       "                                                link     publication  \\\n",
       "0  http://www.timeout.com/film/reviews/87745/toy-...        Time Out   \n",
       "1  http://www.time.com/time/magazine/article/0,91...   TIME Magazine   \n",
       "2                  http://www.newsweek.com/id/104199        Newsweek   \n",
       "3  http://www.variety.com/review/VE1117941294.htm...         Variety   \n",
       "4  http://onfilm.chicagoreader.com/movies/capsule...  Chicago Reader   \n",
       "\n",
       "                                               quote          review_date  \\\n",
       "0  [ingeny, conceiv, design, execut, could, watch...  2009-10-04 00:00:00   \n",
       "1                                [year, inv, comedy]  2008-08-31 00:00:00   \n",
       "2     [win, anim, feat, someth, everyon, ag, spectr]  2008-08-18 00:00:00   \n",
       "3  [film, sport, provoc, ap, story, every, bite, ...  2008-06-09 00:00:00   \n",
       "4  [entertain, comput, gen, hyper, anim, feat, 19...  2008-03-10 00:00:00   \n",
       "\n",
       "   rtid      title  \n",
       "0  9559  Toy Story  \n",
       "1  9559  Toy Story  \n",
       "2  9559  Toy Story  \n",
       "3  9559  Toy Story  \n",
       "4  9559  Toy Story  "
      ]
     },
     "execution_count": 97,
     "metadata": {},
     "output_type": "execute_result"
    }
   ],
   "source": [
    "# Your codes here - for incorporating stemming\n",
    "reviews.quote = reviews.quote.apply(stem_and_lemmatize)\n",
    "reviews.head()"
   ]
  },
  {
   "cell_type": "code",
   "execution_count": 98,
   "metadata": {},
   "outputs": [
    {
     "name": "stdout",
     "output_type": "stream",
     "text": [
      "['ingeny conceiv design execut could watch post stamp siz screen stil engulf charm', 'year inv comedy']\n"
     ]
    }
   ],
   "source": [
    "X = reviews['quote']\n",
    "X_data = [\" \".join(t) for t in X.values]\n",
    "print(X_data[:2])\n",
    "\n",
    "from sklearn.feature_extraction.text import CountVectorizer\n",
    "vectorizer = CountVectorizer()\n",
    "vectorizer.fit(X_data)\n",
    "X_data = vectorizer.transform(X_data)\n",
    "X_data = X_data.toarray()\n",
    "\n",
    "# Make a train/test split\n",
    "from sklearn.model_selection import train_test_split\n",
    "X_train, X_test, Y_train, Y_test = train_test_split(X_data, Y, test_size=0.33, random_state=42)"
   ]
  },
  {
   "cell_type": "code",
   "execution_count": 99,
   "metadata": {},
   "outputs": [
    {
     "name": "stdout",
     "output_type": "stream",
     "text": [
      "Test data score: 0.763751127141569\n",
      "Train data score: 0.8865200977126361\n"
     ]
    }
   ],
   "source": [
    "from sklearn.naive_bayes import MultinomialNB\n",
    "# call the fitted model fitted_model, for future reference:\n",
    "fitted_model = MultinomialNB()\n",
    "fitted_model.fit(X_train, Y_train)\n",
    "print(\"Test data score:\",fitted_model.score(X_test, Y_test))\n",
    "print(\"Train data score:\",fitted_model.score(X_train, Y_train))"
   ]
  }
 ],
 "metadata": {
  "kernelspec": {
   "display_name": "Python 3",
   "language": "python",
   "name": "python3"
  },
  "language_info": {
   "codemirror_mode": {
    "name": "ipython",
    "version": 3
   },
   "file_extension": ".py",
   "mimetype": "text/x-python",
   "name": "python",
   "nbconvert_exporter": "python",
   "pygments_lexer": "ipython3",
   "version": "3.7.0"
  }
 },
 "nbformat": 4,
 "nbformat_minor": 2
}
